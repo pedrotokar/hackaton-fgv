{
 "cells": [
  {
   "cell_type": "markdown",
   "metadata": {},
   "source": [
    "### Geobr\n",
    "\n",
    "Abaixo, algumas outras bibliotecas de mapas que são de fácil interação com a Geobr. Podem ser úteis futuramente."
   ]
  },
  {
   "cell_type": "code",
   "execution_count": 2,
   "metadata": {},
   "outputs": [],
   "source": [
    "import geopandas as gpd\n",
    "import rtree\n",
    "import pygeos\n",
    "import mapclassify\n",
    "import geobr"
   ]
  },
  {
   "cell_type": "code",
   "execution_count": 3,
   "metadata": {},
   "outputs": [],
   "source": [
    "gdf = geobr.read_municipality(code_muni='all', year=2020)\n",
    "rj_cidade = gdf[gdf.name_muni == 'Rio De Janeiro']\n",
    "rj_cidade.explore()"
   ]
  }
 ],
 "metadata": {
  "kernelspec": {
   "display_name": "Python 3",
   "language": "python",
   "name": "python3"
  },
  "language_info": {
   "codemirror_mode": {
    "name": "ipython",
    "version": 3
   },
   "file_extension": ".py",
   "mimetype": "text/x-python",
   "name": "python",
   "nbconvert_exporter": "python",
   "pygments_lexer": "ipython3",
   "version": "3.11.8"
  }
 },
 "nbformat": 4,
 "nbformat_minor": 2
}
